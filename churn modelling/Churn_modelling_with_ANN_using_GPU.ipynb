{
 "cells": [
  {
   "cell_type": "markdown",
   "metadata": {
    "id": "fD1vZLPVkTLt"
   },
   "source": [
    "# Testing whether GPU is working"
   ]
  },
  {
   "cell_type": "code",
   "execution_count": 1,
   "metadata": {
    "colab": {
     "base_uri": "https://localhost:8080/",
     "height": 35
    },
    "id": "6BYtyMBtiVyn",
    "outputId": "d3cab1ff-f473-4703-eb0d-77eab4842931"
   },
   "outputs": [
    {
     "data": {
      "application/vnd.google.colaboratory.intrinsic+json": {
       "type": "string"
      },
      "text/plain": [
       "'/device:GPU:0'"
      ]
     },
     "execution_count": 1,
     "metadata": {},
     "output_type": "execute_result"
    }
   ],
   "source": [
    "import tensorflow as tf\n",
    "tf.test.gpu_device_name()"
   ]
  },
  {
   "cell_type": "markdown",
   "metadata": {
    "id": "Cxtaf_8Oke_x"
   },
   "source": [
    "# Which GPU we are using?"
   ]
  },
  {
   "cell_type": "code",
   "execution_count": 2,
   "metadata": {
    "colab": {
     "base_uri": "https://localhost:8080/"
    },
    "id": "z1218QKqkOrx",
    "outputId": "08a8af3c-70e3-434e-d7e4-faaace81a00a"
   },
   "outputs": [
    {
     "data": {
      "text/plain": [
       "[name: \"/device:CPU:0\"\n",
       " device_type: \"CPU\"\n",
       " memory_limit: 268435456\n",
       " locality {\n",
       " }\n",
       " incarnation: 8929471684488163242\n",
       " xla_global_id: -1, name: \"/device:GPU:0\"\n",
       " device_type: \"GPU\"\n",
       " memory_limit: 11320098816\n",
       " locality {\n",
       "   bus_id: 1\n",
       "   links {\n",
       "   }\n",
       " }\n",
       " incarnation: 11738412412414534181\n",
       " physical_device_desc: \"device: 0, name: Tesla K80, pci bus id: 0000:00:04.0, compute capability: 3.7\"\n",
       " xla_global_id: 416903419]"
      ]
     },
     "execution_count": 2,
     "metadata": {},
     "output_type": "execute_result"
    }
   ],
   "source": [
    "from tensorflow.python.client import device_lib\n",
    "device_lib.list_local_devices()"
   ]
  },
  {
   "cell_type": "markdown",
   "metadata": {
    "id": "gePU-tmhlRAi"
   },
   "source": [
    "# Ram information"
   ]
  },
  {
   "cell_type": "code",
   "execution_count": 3,
   "metadata": {
    "colab": {
     "base_uri": "https://localhost:8080/"
    },
    "id": "7eklNUYakzMx",
    "outputId": "cbfc1f8d-0382-4ad6-a2b1-b7a044a1140b"
   },
   "outputs": [
    {
     "name": "stdout",
     "output_type": "stream",
     "text": [
      "MemTotal:       13302920 kB\n",
      "MemFree:         9018056 kB\n",
      "MemAvailable:   11768164 kB\n",
      "Buffers:          134760 kB\n",
      "Cached:          2605720 kB\n",
      "SwapCached:            0 kB\n",
      "Active:          1627436 kB\n",
      "Inactive:        2310672 kB\n",
      "Active(anon):    1003304 kB\n",
      "Inactive(anon):     2508 kB\n",
      "Active(file):     624132 kB\n",
      "Inactive(file):  2308164 kB\n",
      "Unevictable:           0 kB\n",
      "Mlocked:               0 kB\n",
      "SwapTotal:             0 kB\n",
      "SwapFree:              0 kB\n",
      "Dirty:               540 kB\n",
      "Writeback:             0 kB\n",
      "AnonPages:       1197732 kB\n",
      "Mapped:           697212 kB\n",
      "Shmem:              3240 kB\n",
      "KReclaimable:     118572 kB\n",
      "Slab:             173912 kB\n",
      "SReclaimable:     118572 kB\n",
      "SUnreclaim:        55340 kB\n",
      "KernelStack:        6304 kB\n",
      "PageTables:        15120 kB\n",
      "NFS_Unstable:          0 kB\n",
      "Bounce:                0 kB\n",
      "WritebackTmp:          0 kB\n",
      "CommitLimit:     6651460 kB\n",
      "Committed_AS:    4392284 kB\n",
      "VmallocTotal:   34359738367 kB\n",
      "VmallocUsed:       48120 kB\n",
      "VmallocChunk:          0 kB\n",
      "Percpu:             1456 kB\n",
      "AnonHugePages:      2048 kB\n",
      "ShmemHugePages:        0 kB\n",
      "ShmemPmdMapped:        0 kB\n",
      "FileHugePages:         0 kB\n",
      "FilePmdMapped:         0 kB\n",
      "CmaTotal:              0 kB\n",
      "CmaFree:               0 kB\n",
      "HugePages_Total:       0\n",
      "HugePages_Free:        0\n",
      "HugePages_Rsvd:        0\n",
      "HugePages_Surp:        0\n",
      "Hugepagesize:       2048 kB\n",
      "Hugetlb:               0 kB\n",
      "DirectMap4k:      203584 kB\n",
      "DirectMap2M:     7133184 kB\n",
      "DirectMap1G:     8388608 kB\n"
     ]
    }
   ],
   "source": [
    "!cat /proc/meminfo"
   ]
  },
  {
   "cell_type": "markdown",
   "metadata": {
    "id": "sOkS4oXsldDC"
   },
   "source": [
    "# CPU information"
   ]
  },
  {
   "cell_type": "code",
   "execution_count": 5,
   "metadata": {
    "colab": {
     "base_uri": "https://localhost:8080/"
    },
    "id": "gFuWNtKMlZzF",
    "outputId": "cd21de90-5c5a-424b-dd58-b2e5d55194b3"
   },
   "outputs": [
    {
     "name": "stdout",
     "output_type": "stream",
     "text": [
      "processor\t: 0\n",
      "vendor_id\t: GenuineIntel\n",
      "cpu family\t: 6\n",
      "model\t\t: 63\n",
      "model name\t: Intel(R) Xeon(R) CPU @ 2.30GHz\n",
      "stepping\t: 0\n",
      "microcode\t: 0x1\n",
      "cpu MHz\t\t: 2299.998\n",
      "cache size\t: 46080 KB\n",
      "physical id\t: 0\n",
      "siblings\t: 2\n",
      "core id\t\t: 0\n",
      "cpu cores\t: 1\n",
      "apicid\t\t: 0\n",
      "initial apicid\t: 0\n",
      "fpu\t\t: yes\n",
      "fpu_exception\t: yes\n",
      "cpuid level\t: 13\n",
      "wp\t\t: yes\n",
      "flags\t\t: fpu vme de pse tsc msr pae mce cx8 apic sep mtrr pge mca cmov pat pse36 clflush mmx fxsr sse sse2 ss ht syscall nx pdpe1gb rdtscp lm constant_tsc rep_good nopl xtopology nonstop_tsc cpuid tsc_known_freq pni pclmulqdq ssse3 fma cx16 pcid sse4_1 sse4_2 x2apic movbe popcnt aes xsave avx f16c rdrand hypervisor lahf_lm abm invpcid_single ssbd ibrs ibpb stibp fsgsbase tsc_adjust bmi1 avx2 smep bmi2 erms invpcid xsaveopt arat md_clear arch_capabilities\n",
      "bugs\t\t: cpu_meltdown spectre_v1 spectre_v2 spec_store_bypass l1tf mds swapgs\n",
      "bogomips\t: 4599.99\n",
      "clflush size\t: 64\n",
      "cache_alignment\t: 64\n",
      "address sizes\t: 46 bits physical, 48 bits virtual\n",
      "power management:\n",
      "\n",
      "processor\t: 1\n",
      "vendor_id\t: GenuineIntel\n",
      "cpu family\t: 6\n",
      "model\t\t: 63\n",
      "model name\t: Intel(R) Xeon(R) CPU @ 2.30GHz\n",
      "stepping\t: 0\n",
      "microcode\t: 0x1\n",
      "cpu MHz\t\t: 2299.998\n",
      "cache size\t: 46080 KB\n",
      "physical id\t: 0\n",
      "siblings\t: 2\n",
      "core id\t\t: 0\n",
      "cpu cores\t: 1\n",
      "apicid\t\t: 1\n",
      "initial apicid\t: 1\n",
      "fpu\t\t: yes\n",
      "fpu_exception\t: yes\n",
      "cpuid level\t: 13\n",
      "wp\t\t: yes\n",
      "flags\t\t: fpu vme de pse tsc msr pae mce cx8 apic sep mtrr pge mca cmov pat pse36 clflush mmx fxsr sse sse2 ss ht syscall nx pdpe1gb rdtscp lm constant_tsc rep_good nopl xtopology nonstop_tsc cpuid tsc_known_freq pni pclmulqdq ssse3 fma cx16 pcid sse4_1 sse4_2 x2apic movbe popcnt aes xsave avx f16c rdrand hypervisor lahf_lm abm invpcid_single ssbd ibrs ibpb stibp fsgsbase tsc_adjust bmi1 avx2 smep bmi2 erms invpcid xsaveopt arat md_clear arch_capabilities\n",
      "bugs\t\t: cpu_meltdown spectre_v1 spectre_v2 spec_store_bypass l1tf mds swapgs\n",
      "bogomips\t: 4599.99\n",
      "clflush size\t: 64\n",
      "cache_alignment\t: 64\n",
      "address sizes\t: 46 bits physical, 48 bits virtual\n",
      "power management:\n",
      "\n"
     ]
    }
   ],
   "source": [
    "!cat /proc/cpuinfo"
   ]
  },
  {
   "cell_type": "code",
   "execution_count": 1,
   "metadata": {
    "colab": {
     "base_uri": "https://localhost:8080/"
    },
    "id": "7v7_vBnuljXP",
    "outputId": "dbbddb4e-47ac-408f-b8b9-8bcab744c72a"
   },
   "outputs": [
    {
     "name": "stdout",
     "output_type": "stream",
     "text": [
      "Drive already mounted at /content/drive; to attempt to forcibly remount, call drive.mount(\"/content/drive\", force_remount=True).\n"
     ]
    }
   ],
   "source": [
    "from google.colab import drive\n",
    "drive.mount('/content/drive')"
   ]
  },
  {
   "cell_type": "code",
   "execution_count": 1,
   "metadata": {
    "id": "aG7wOUNImxWR"
   },
   "outputs": [],
   "source": [
    "\n",
    "import pandas as pd"
   ]
  },
  {
   "cell_type": "code",
   "execution_count": 2,
   "metadata": {
    "id": "zslUrCnwn7WK"
   },
   "outputs": [],
   "source": [
    "df=pd.read_csv(\"Churn_Modelling.csv\")\n",
    "X=df.iloc[:,3:13]\n",
    "y=df.iloc[:,13]"
   ]
  },
  {
   "cell_type": "code",
   "execution_count": 3,
   "metadata": {},
   "outputs": [
    {
     "data": {
      "text/html": [
       "<div>\n",
       "<style scoped>\n",
       "    .dataframe tbody tr th:only-of-type {\n",
       "        vertical-align: middle;\n",
       "    }\n",
       "\n",
       "    .dataframe tbody tr th {\n",
       "        vertical-align: top;\n",
       "    }\n",
       "\n",
       "    .dataframe thead th {\n",
       "        text-align: right;\n",
       "    }\n",
       "</style>\n",
       "<table border=\"1\" class=\"dataframe\">\n",
       "  <thead>\n",
       "    <tr style=\"text-align: right;\">\n",
       "      <th></th>\n",
       "      <th>RowNumber</th>\n",
       "      <th>CustomerId</th>\n",
       "      <th>Surname</th>\n",
       "      <th>CreditScore</th>\n",
       "      <th>Geography</th>\n",
       "      <th>Gender</th>\n",
       "      <th>Age</th>\n",
       "      <th>Tenure</th>\n",
       "      <th>Balance</th>\n",
       "      <th>NumOfProducts</th>\n",
       "      <th>HasCrCard</th>\n",
       "      <th>IsActiveMember</th>\n",
       "      <th>EstimatedSalary</th>\n",
       "      <th>Exited</th>\n",
       "    </tr>\n",
       "  </thead>\n",
       "  <tbody>\n",
       "    <tr>\n",
       "      <th>0</th>\n",
       "      <td>1</td>\n",
       "      <td>15634602</td>\n",
       "      <td>Hargrave</td>\n",
       "      <td>619</td>\n",
       "      <td>France</td>\n",
       "      <td>Female</td>\n",
       "      <td>42</td>\n",
       "      <td>2</td>\n",
       "      <td>0.00</td>\n",
       "      <td>1</td>\n",
       "      <td>1</td>\n",
       "      <td>1</td>\n",
       "      <td>101348.88</td>\n",
       "      <td>1</td>\n",
       "    </tr>\n",
       "    <tr>\n",
       "      <th>1</th>\n",
       "      <td>2</td>\n",
       "      <td>15647311</td>\n",
       "      <td>Hill</td>\n",
       "      <td>608</td>\n",
       "      <td>Spain</td>\n",
       "      <td>Female</td>\n",
       "      <td>41</td>\n",
       "      <td>1</td>\n",
       "      <td>83807.86</td>\n",
       "      <td>1</td>\n",
       "      <td>0</td>\n",
       "      <td>1</td>\n",
       "      <td>112542.58</td>\n",
       "      <td>0</td>\n",
       "    </tr>\n",
       "    <tr>\n",
       "      <th>2</th>\n",
       "      <td>3</td>\n",
       "      <td>15619304</td>\n",
       "      <td>Onio</td>\n",
       "      <td>502</td>\n",
       "      <td>France</td>\n",
       "      <td>Female</td>\n",
       "      <td>42</td>\n",
       "      <td>8</td>\n",
       "      <td>159660.80</td>\n",
       "      <td>3</td>\n",
       "      <td>1</td>\n",
       "      <td>0</td>\n",
       "      <td>113931.57</td>\n",
       "      <td>1</td>\n",
       "    </tr>\n",
       "    <tr>\n",
       "      <th>3</th>\n",
       "      <td>4</td>\n",
       "      <td>15701354</td>\n",
       "      <td>Boni</td>\n",
       "      <td>699</td>\n",
       "      <td>France</td>\n",
       "      <td>Female</td>\n",
       "      <td>39</td>\n",
       "      <td>1</td>\n",
       "      <td>0.00</td>\n",
       "      <td>2</td>\n",
       "      <td>0</td>\n",
       "      <td>0</td>\n",
       "      <td>93826.63</td>\n",
       "      <td>0</td>\n",
       "    </tr>\n",
       "    <tr>\n",
       "      <th>4</th>\n",
       "      <td>5</td>\n",
       "      <td>15737888</td>\n",
       "      <td>Mitchell</td>\n",
       "      <td>850</td>\n",
       "      <td>Spain</td>\n",
       "      <td>Female</td>\n",
       "      <td>43</td>\n",
       "      <td>2</td>\n",
       "      <td>125510.82</td>\n",
       "      <td>1</td>\n",
       "      <td>1</td>\n",
       "      <td>1</td>\n",
       "      <td>79084.10</td>\n",
       "      <td>0</td>\n",
       "    </tr>\n",
       "  </tbody>\n",
       "</table>\n",
       "</div>"
      ],
      "text/plain": [
       "   RowNumber  CustomerId   Surname  CreditScore Geography  Gender  Age  \\\n",
       "0          1    15634602  Hargrave          619    France  Female   42   \n",
       "1          2    15647311      Hill          608     Spain  Female   41   \n",
       "2          3    15619304      Onio          502    France  Female   42   \n",
       "3          4    15701354      Boni          699    France  Female   39   \n",
       "4          5    15737888  Mitchell          850     Spain  Female   43   \n",
       "\n",
       "   Tenure    Balance  NumOfProducts  HasCrCard  IsActiveMember  \\\n",
       "0       2       0.00              1          1               1   \n",
       "1       1   83807.86              1          0               1   \n",
       "2       8  159660.80              3          1               0   \n",
       "3       1       0.00              2          0               0   \n",
       "4       2  125510.82              1          1               1   \n",
       "\n",
       "   EstimatedSalary  Exited  \n",
       "0        101348.88       1  \n",
       "1        112542.58       0  \n",
       "2        113931.57       1  \n",
       "3         93826.63       0  \n",
       "4         79084.10       0  "
      ]
     },
     "execution_count": 3,
     "metadata": {},
     "output_type": "execute_result"
    }
   ],
   "source": [
    "df.head()"
   ]
  },
  {
   "cell_type": "code",
   "execution_count": 5,
   "metadata": {
    "id": "Lgl3p--0ojRD"
   },
   "outputs": [],
   "source": [
    "#creating dummy variables of categorical features\n",
    "geography=pd.get_dummies(X[\"Geography\"],drop_first=True)\n",
    "gender=pd.get_dummies(X['Gender'],drop_first=True)"
   ]
  },
  {
   "cell_type": "code",
   "execution_count": 6,
   "metadata": {
    "id": "2TwdSQe_omg_"
   },
   "outputs": [],
   "source": [
    "X=pd.concat([X,geography,gender],axis=1) #concatinating\n",
    "X=X.drop(['Geography','Gender'],axis=1) #droping the unnecessary columns"
   ]
  },
  {
   "cell_type": "code",
   "execution_count": 7,
   "metadata": {
    "id": "zmpfqN5Bop7i"
   },
   "outputs": [],
   "source": [
    "#splitting the dataset in to train set and test set\n",
    "from sklearn.model_selection import train_test_split\n",
    "X_train, X_test, y_train, y_test = train_test_split(X, y, test_size = 0.2, random_state = 0)"
   ]
  },
  {
   "cell_type": "code",
   "execution_count": 8,
   "metadata": {
    "id": "EBEZioquo01I"
   },
   "outputs": [],
   "source": [
    "#feature scaling\n",
    "from sklearn.preprocessing import StandardScaler\n",
    "sc = StandardScaler()\n",
    "X_train = sc.fit_transform(X_train)\n",
    "X_test = sc.transform(X_test)"
   ]
  },
  {
   "cell_type": "code",
   "execution_count": 9,
   "metadata": {
    "id": "OIiMUkc7o4MY"
   },
   "outputs": [],
   "source": [
    "#now lets make ANN\n",
    "import keras\n",
    "from keras.models import Sequential#sequential library is responsible for creating neural networks\n",
    "from keras.layers import Dense #dense library is used to create the hidden layers\n",
    "#from keras.layers import LeakyReLU,PReLU,ELU #\n",
    "from keras.layers import Dropout #dropout is an regularization library for neural networks"
   ]
  },
  {
   "cell_type": "code",
   "execution_count": 10,
   "metadata": {
    "id": "FzwUbASoo7o3"
   },
   "outputs": [],
   "source": [
    "#initializing the ANN,it is an empty neural network here\n",
    "classifier=Sequential()"
   ]
  },
  {
   "cell_type": "code",
   "execution_count": 11,
   "metadata": {
    "id": "VqPB2gako_Kp"
   },
   "outputs": [],
   "source": [
    "#adding the input layer and the 1st hidden layer using dense\n",
    "#units specifies the number of neurons in the hidden layer\n",
    "#kernel_initializer is the initialization of parameter of weights\n",
    "#when we use relu activation function he_unform and he_normal works well\n",
    "classifier.add(Dense(units=6,kernel_initializer='he_uniform',activation='relu',input_dim=11))\n",
    "classifier.add(Dropout(0.3))"
   ]
  },
  {
   "cell_type": "code",
   "execution_count": 12,
   "metadata": {
    "id": "ABEje_bMpB_n"
   },
   "outputs": [],
   "source": [
    "#adding 2nd hidden layer\n",
    "classifier.add(Dense(units=6,kernel_initializer='he_uniform',activation='relu'))\n",
    "classifier.add(Dropout(0.4))"
   ]
  },
  {
   "cell_type": "code",
   "execution_count": 13,
   "metadata": {
    "id": "6-oTHMrqpEyU"
   },
   "outputs": [],
   "source": [
    "classifier.add(Dense(units=1,kernel_initializer='glorot_uniform',activation='sigmoid'))"
   ]
  },
  {
   "cell_type": "code",
   "execution_count": 14,
   "metadata": {
    "id": "Pd8JT270pHoO"
   },
   "outputs": [],
   "source": [
    "#compiling the ANN\n",
    "#if our problem is binary classification we should use binarycrossentropy and if multiclass we should use categoricalcrossentropy\n",
    "classifier.compile(optimizer='adamax',loss='binary_crossentropy',metrics=['accuracy'])"
   ]
  },
  {
   "cell_type": "code",
   "execution_count": 15,
   "metadata": {
    "colab": {
     "base_uri": "https://localhost:8080/"
    },
    "id": "YigQnQMOpLOE",
    "outputId": "d76179af-3fa6-4236-9767-69cfeab62b8e"
   },
   "outputs": [
    {
     "name": "stdout",
     "output_type": "stream",
     "text": [
      "Epoch 1/100\n",
      "800/800 [==============================] - 6s 3ms/step - loss: 0.5406 - accuracy: 0.7710\n",
      "Epoch 2/100\n",
      "800/800 [==============================] - 3s 3ms/step - loss: 0.4937 - accuracy: 0.7964\n",
      "Epoch 3/100\n",
      "800/800 [==============================] - 3s 3ms/step - loss: 0.4745 - accuracy: 0.7986\n",
      "Epoch 4/100\n",
      "800/800 [==============================] - 3s 4ms/step - loss: 0.4594 - accuracy: 0.8024\n",
      "Epoch 5/100\n",
      "800/800 [==============================] - 3s 3ms/step - loss: 0.4475 - accuracy: 0.8039\n",
      "Epoch 6/100\n",
      "800/800 [==============================] - 3s 3ms/step - loss: 0.4385 - accuracy: 0.8077\n",
      "Epoch 7/100\n",
      "800/800 [==============================] - 3s 3ms/step - loss: 0.4315 - accuracy: 0.8110\n",
      "Epoch 8/100\n",
      "800/800 [==============================] - 3s 3ms/step - loss: 0.4255 - accuracy: 0.8124\n",
      "Epoch 9/100\n",
      "800/800 [==============================] - 3s 3ms/step - loss: 0.4203 - accuracy: 0.8163\n",
      "Epoch 10/100\n",
      "800/800 [==============================] - 3s 3ms/step - loss: 0.4154 - accuracy: 0.8194\n",
      "Epoch 11/100\n",
      "800/800 [==============================] - 3s 4ms/step - loss: 0.4105 - accuracy: 0.8224\n",
      "Epoch 12/100\n",
      "800/800 [==============================] - 3s 3ms/step - loss: 0.4059 - accuracy: 0.8260\n",
      "Epoch 13/100\n",
      "800/800 [==============================] - 3s 3ms/step - loss: 0.4016 - accuracy: 0.8266\n",
      "Epoch 14/100\n",
      "800/800 [==============================] - 3s 3ms/step - loss: 0.3974 - accuracy: 0.8309\n",
      "Epoch 15/100\n",
      "800/800 [==============================] - 3s 3ms/step - loss: 0.3939 - accuracy: 0.8332\n",
      "Epoch 16/100\n",
      "800/800 [==============================] - 3s 3ms/step - loss: 0.3903 - accuracy: 0.8366\n",
      "Epoch 17/100\n",
      "800/800 [==============================] - 3s 3ms/step - loss: 0.3869 - accuracy: 0.8378\n",
      "Epoch 18/100\n",
      "800/800 [==============================] - 3s 3ms/step - loss: 0.3836 - accuracy: 0.8393\n",
      "Epoch 19/100\n",
      "800/800 [==============================] - 3s 3ms/step - loss: 0.3806 - accuracy: 0.8419\n",
      "Epoch 20/100\n",
      "800/800 [==============================] - 3s 4ms/step - loss: 0.3778 - accuracy: 0.8430\n",
      "Epoch 21/100\n",
      "800/800 [==============================] - 3s 4ms/step - loss: 0.3753 - accuracy: 0.8447\n",
      "Epoch 22/100\n",
      "800/800 [==============================] - 3s 4ms/step - loss: 0.3732 - accuracy: 0.8460\n",
      "Epoch 23/100\n",
      "800/800 [==============================] - 3s 4ms/step - loss: 0.3710 - accuracy: 0.8489\n",
      "Epoch 24/100\n",
      "800/800 [==============================] - 3s 4ms/step - loss: 0.3692 - accuracy: 0.8495\n",
      "Epoch 25/100\n",
      "800/800 [==============================] - 3s 3ms/step - loss: 0.3675 - accuracy: 0.8494\n",
      "Epoch 26/100\n",
      "800/800 [==============================] - 3s 3ms/step - loss: 0.3659 - accuracy: 0.8493\n",
      "Epoch 27/100\n",
      "800/800 [==============================] - 3s 3ms/step - loss: 0.3646 - accuracy: 0.8495\n",
      "Epoch 28/100\n",
      "800/800 [==============================] - 3s 3ms/step - loss: 0.3634 - accuracy: 0.8508\n",
      "Epoch 29/100\n",
      "800/800 [==============================] - 3s 3ms/step - loss: 0.3623 - accuracy: 0.8496\n",
      "Epoch 30/100\n",
      "800/800 [==============================] - 3s 3ms/step - loss: 0.3613 - accuracy: 0.8504\n",
      "Epoch 31/100\n",
      "800/800 [==============================] - 3s 3ms/step - loss: 0.3604 - accuracy: 0.8524\n",
      "Epoch 32/100\n",
      "800/800 [==============================] - 3s 4ms/step - loss: 0.3595 - accuracy: 0.8509\n",
      "Epoch 33/100\n",
      "800/800 [==============================] - 3s 4ms/step - loss: 0.3587 - accuracy: 0.8516\n",
      "Epoch 34/100\n",
      "800/800 [==============================] - 3s 3ms/step - loss: 0.3578 - accuracy: 0.8526\n",
      "Epoch 35/100\n",
      "800/800 [==============================] - 3s 3ms/step - loss: 0.3570 - accuracy: 0.8524\n",
      "Epoch 36/100\n",
      "800/800 [==============================] - 3s 3ms/step - loss: 0.3565 - accuracy: 0.8530\n",
      "Epoch 37/100\n",
      "800/800 [==============================] - 3s 4ms/step - loss: 0.3559 - accuracy: 0.8531\n",
      "Epoch 38/100\n",
      "800/800 [==============================] - 3s 4ms/step - loss: 0.3552 - accuracy: 0.8544\n",
      "Epoch 39/100\n",
      "800/800 [==============================] - 3s 3ms/step - loss: 0.3547 - accuracy: 0.8539\n",
      "Epoch 40/100\n",
      "800/800 [==============================] - 3s 3ms/step - loss: 0.3541 - accuracy: 0.8551\n",
      "Epoch 41/100\n",
      "800/800 [==============================] - 3s 3ms/step - loss: 0.3533 - accuracy: 0.8554\n",
      "Epoch 42/100\n",
      "800/800 [==============================] - 3s 3ms/step - loss: 0.3529 - accuracy: 0.8561\n",
      "Epoch 43/100\n",
      "800/800 [==============================] - 3s 3ms/step - loss: 0.3524 - accuracy: 0.8549\n",
      "Epoch 44/100\n",
      "800/800 [==============================] - 3s 3ms/step - loss: 0.3519 - accuracy: 0.8558\n",
      "Epoch 45/100\n",
      "800/800 [==============================] - 3s 3ms/step - loss: 0.3514 - accuracy: 0.8565\n",
      "Epoch 46/100\n",
      "800/800 [==============================] - 3s 3ms/step - loss: 0.3508 - accuracy: 0.8571\n",
      "Epoch 47/100\n",
      "800/800 [==============================] - 3s 4ms/step - loss: 0.3504 - accuracy: 0.8554\n",
      "Epoch 48/100\n",
      "800/800 [==============================] - 3s 3ms/step - loss: 0.3500 - accuracy: 0.8551\n",
      "Epoch 49/100\n",
      "800/800 [==============================] - 3s 3ms/step - loss: 0.3496 - accuracy: 0.8558\n",
      "Epoch 50/100\n",
      "800/800 [==============================] - 3s 3ms/step - loss: 0.3491 - accuracy: 0.8564\n",
      "Epoch 51/100\n",
      "800/800 [==============================] - 3s 3ms/step - loss: 0.3488 - accuracy: 0.8568\n",
      "Epoch 52/100\n",
      "800/800 [==============================] - 3s 3ms/step - loss: 0.3483 - accuracy: 0.8575\n",
      "Epoch 53/100\n",
      "800/800 [==============================] - 3s 3ms/step - loss: 0.3480 - accuracy: 0.8565\n",
      "Epoch 54/100\n",
      "800/800 [==============================] - 3s 4ms/step - loss: 0.3475 - accuracy: 0.8580\n",
      "Epoch 55/100\n",
      "800/800 [==============================] - 3s 3ms/step - loss: 0.3473 - accuracy: 0.8590\n",
      "Epoch 56/100\n",
      "800/800 [==============================] - 3s 4ms/step - loss: 0.3468 - accuracy: 0.8569\n",
      "Epoch 57/100\n",
      "800/800 [==============================] - 3s 3ms/step - loss: 0.3466 - accuracy: 0.8572\n",
      "Epoch 58/100\n",
      "800/800 [==============================] - 3s 3ms/step - loss: 0.3462 - accuracy: 0.8577\n",
      "Epoch 59/100\n",
      "800/800 [==============================] - 3s 4ms/step - loss: 0.3459 - accuracy: 0.8584\n",
      "Epoch 60/100\n",
      "800/800 [==============================] - 3s 3ms/step - loss: 0.3455 - accuracy: 0.8584\n",
      "Epoch 61/100\n",
      "800/800 [==============================] - 3s 3ms/step - loss: 0.3451 - accuracy: 0.8575\n",
      "Epoch 62/100\n",
      "800/800 [==============================] - 3s 3ms/step - loss: 0.3449 - accuracy: 0.8593\n",
      "Epoch 63/100\n",
      "800/800 [==============================] - 3s 3ms/step - loss: 0.3446 - accuracy: 0.8593\n",
      "Epoch 64/100\n",
      "800/800 [==============================] - 3s 3ms/step - loss: 0.3443 - accuracy: 0.8587\n",
      "Epoch 65/100\n",
      "800/800 [==============================] - 3s 3ms/step - loss: 0.3439 - accuracy: 0.8583\n",
      "Epoch 66/100\n",
      "800/800 [==============================] - 3s 3ms/step - loss: 0.3434 - accuracy: 0.8590\n",
      "Epoch 67/100\n",
      "800/800 [==============================] - 3s 4ms/step - loss: 0.3432 - accuracy: 0.8594\n",
      "Epoch 68/100\n",
      "800/800 [==============================] - 3s 3ms/step - loss: 0.3429 - accuracy: 0.8597\n",
      "Epoch 69/100\n",
      "800/800 [==============================] - 3s 4ms/step - loss: 0.3427 - accuracy: 0.8589\n",
      "Epoch 70/100\n",
      "800/800 [==============================] - 3s 3ms/step - loss: 0.3424 - accuracy: 0.8585\n",
      "Epoch 71/100\n",
      "800/800 [==============================] - 3s 3ms/step - loss: 0.3421 - accuracy: 0.8587\n",
      "Epoch 72/100\n",
      "800/800 [==============================] - 3s 3ms/step - loss: 0.3419 - accuracy: 0.8579\n",
      "Epoch 73/100\n",
      "800/800 [==============================] - 3s 3ms/step - loss: 0.3416 - accuracy: 0.8586\n",
      "Epoch 74/100\n",
      "800/800 [==============================] - 3s 3ms/step - loss: 0.3414 - accuracy: 0.8586\n",
      "Epoch 75/100\n",
      "800/800 [==============================] - 3s 3ms/step - loss: 0.3412 - accuracy: 0.8596\n",
      "Epoch 76/100\n",
      "800/800 [==============================] - 3s 3ms/step - loss: 0.3409 - accuracy: 0.8589\n",
      "Epoch 77/100\n",
      "800/800 [==============================] - 3s 3ms/step - loss: 0.3407 - accuracy: 0.8591\n",
      "Epoch 78/100\n",
      "800/800 [==============================] - 3s 3ms/step - loss: 0.3406 - accuracy: 0.8599\n",
      "Epoch 79/100\n",
      "800/800 [==============================] - 3s 3ms/step - loss: 0.3404 - accuracy: 0.8591\n",
      "Epoch 80/100\n",
      "800/800 [==============================] - 3s 3ms/step - loss: 0.3402 - accuracy: 0.8601\n",
      "Epoch 81/100\n",
      "800/800 [==============================] - 3s 3ms/step - loss: 0.3401 - accuracy: 0.8604\n",
      "Epoch 82/100\n",
      "800/800 [==============================] - 3s 4ms/step - loss: 0.3398 - accuracy: 0.8595\n",
      "Epoch 83/100\n",
      "800/800 [==============================] - 3s 3ms/step - loss: 0.3397 - accuracy: 0.8596\n",
      "Epoch 84/100\n",
      "800/800 [==============================] - 3s 3ms/step - loss: 0.3396 - accuracy: 0.8606\n",
      "Epoch 85/100\n",
      "800/800 [==============================] - 3s 3ms/step - loss: 0.3395 - accuracy: 0.8602\n",
      "Epoch 86/100\n",
      "800/800 [==============================] - 3s 3ms/step - loss: 0.3392 - accuracy: 0.8608\n",
      "Epoch 87/100\n",
      "800/800 [==============================] - 3s 3ms/step - loss: 0.3393 - accuracy: 0.8601\n",
      "Epoch 88/100\n",
      "800/800 [==============================] - 3s 3ms/step - loss: 0.3390 - accuracy: 0.8606\n",
      "Epoch 89/100\n",
      "800/800 [==============================] - 3s 4ms/step - loss: 0.3389 - accuracy: 0.8608\n",
      "Epoch 90/100\n",
      "800/800 [==============================] - 3s 4ms/step - loss: 0.3388 - accuracy: 0.8612\n",
      "Epoch 91/100\n",
      "800/800 [==============================] - 3s 3ms/step - loss: 0.3386 - accuracy: 0.8602\n",
      "Epoch 92/100\n",
      "800/800 [==============================] - 3s 3ms/step - loss: 0.3386 - accuracy: 0.8615\n",
      "Epoch 93/100\n",
      "800/800 [==============================] - 3s 3ms/step - loss: 0.3384 - accuracy: 0.8612\n",
      "Epoch 94/100\n",
      "800/800 [==============================] - 3s 3ms/step - loss: 0.3383 - accuracy: 0.8605\n",
      "Epoch 95/100\n",
      "800/800 [==============================] - 3s 3ms/step - loss: 0.3382 - accuracy: 0.8610\n",
      "Epoch 96/100\n",
      "800/800 [==============================] - 3s 4ms/step - loss: 0.3381 - accuracy: 0.8614\n",
      "Epoch 97/100\n",
      "800/800 [==============================] - 3s 3ms/step - loss: 0.3381 - accuracy: 0.8620\n",
      "Epoch 98/100\n",
      "800/800 [==============================] - 3s 3ms/step - loss: 0.3379 - accuracy: 0.8614\n",
      "Epoch 99/100\n",
      "800/800 [==============================] - 3s 4ms/step - loss: 0.3378 - accuracy: 0.8620\n",
      "Epoch 100/100\n",
      "800/800 [==============================] - 3s 4ms/step - loss: 0.3378 - accuracy: 0.8608\n"
     ]
    }
   ],
   "source": [
    "model_history=classifier.fit(X_train, y_train, batch_size = 10,validation_split=0.3,epochs = 100)"
   ]
  },
  {
   "cell_type": "code",
   "execution_count": 16,
   "metadata": {
    "id": "ltfGueIBpXYt"
   },
   "outputs": [],
   "source": [
    "# predicting the results\n",
    "y_pred=classifier.predict(X_test)\n",
    "y_pred=(y_pred > 0.5)"
   ]
  },
  {
   "cell_type": "code",
   "execution_count": 18,
   "metadata": {
    "id": "qaAooSnur6cd"
   },
   "outputs": [],
   "source": [
    "#calculating the accuracy\n",
    "from sklearn.metrics import accuracy_score\n",
    "score=accuracy_score(y_pred,y_test)"
   ]
  },
  {
   "cell_type": "code",
   "execution_count": 19,
   "metadata": {
    "colab": {
     "base_uri": "https://localhost:8080/"
    },
    "id": "IZdDudT1sUCN",
    "outputId": "df19836f-0f2b-4823-ce32-5670da95a4ba"
   },
   "outputs": [
    {
     "name": "stdout",
     "output_type": "stream",
     "text": [
      "0.8595\n"
     ]
    }
   ],
   "source": [
    "print(score)"
   ]
  },
  {
   "cell_type": "code",
   "execution_count": null,
   "metadata": {
    "id": "M34MU1q1sxo6"
   },
   "outputs": [],
   "source": []
  }
 ],
 "metadata": {
  "accelerator": "GPU",
  "colab": {
   "name": "Churn_modelling with ANN using GPU.ipynb",
   "provenance": []
  },
  "kernelspec": {
   "display_name": "Python 3",
   "language": "python",
   "name": "python3"
  },
  "language_info": {
   "codemirror_mode": {
    "name": "ipython",
    "version": 3
   },
   "file_extension": ".py",
   "mimetype": "text/x-python",
   "name": "python",
   "nbconvert_exporter": "python",
   "pygments_lexer": "ipython3",
   "version": "3.8.5"
  }
 },
 "nbformat": 4,
 "nbformat_minor": 1
}
